{
 "cells": [
  {
   "cell_type": "markdown",
   "metadata": {},
   "source": [
    "## Matematisk funksjoner: Definisjon og Plotting"
   ]
  },
  {
   "cell_type": "markdown",
   "metadata": {},
   "source": [
    "Du kjenner sikker til at man kan definere egne funksjoner i Python for å definere funksjoner i matematikk, dvs. funksjoner som tar et tall om input (x-verdier) og gir et tall som output (funksjonsverdier). Hvis ikke kandu se her er et eksempel:\n"
   ]
  },
  {
   "cell_type": "markdown",
   "metadata": {},
   "source": [
    "**Eksempel:**  Definer funksjonen $f(x)=x^2$ i Python og regn ut $f(-1)$.\n"
   ]
  },
  {
   "cell_type": "markdown",
   "metadata": {},
   "source": [
    "Legg merke til at vi trenger å ha return i funksjon for å kunne lagre funksjonsverdi når vi kaller funksjonen.\n",
    "\n",
    "Legg også merke til at varibel x-en i funksjonsuttrykket kun eksisterer i funksjonen. Hvis vi definerer en annen variabel x utenfra funksjonen kan vi fortsatt velge hvilken x-verdi vi ønsker å stappe inn i funksjonen:\n"
   ]
  },
  {
   "cell_type": "code",
   "execution_count": null,
   "metadata": {},
   "outputs": [],
   "source": [
    "def f(x):\n",
    "    return x**2\n",
    "\n",
    "x = 2\n",
    "y = f(3)\n",
    "print(y)"
   ]
  },
  {
   "cell_type": "markdown",
   "metadata": {},
   "source": [
    "Ovenfor får vi $f(3)=3^2=9$, fordi $x$-variabelen i funksjonen $f$ er ikke den samme $x$-variabelen som er definert i linjen ovenfor.\n"
   ]
  },
  {
   "cell_type": "markdown",
   "metadata": {},
   "source": [
    "<div class='alert alert-info'>\n",
    "\n",
    "(Blå boks - for spesielt interesserte). Hvis vi skal definere matematiske funksjoner (som $f(x)=x^2$) finnes det en annen syntaks som er litt enklere å bruke. Det vi får kalles for en *anonym funksjon*  eller *lambda funksjon*.   Her er et eksempel:\n",
    "\n",
    "\n",
    "</div>"
   ]
  },
  {
   "cell_type": "code",
   "execution_count": null,
   "metadata": {},
   "outputs": [],
   "source": [
    "# Denne kodeboksen er en del av den blå boksen,\n",
    "# og du kan hoppe over koden her hvis du ikke er interessert.\n",
    "\n",
    "f = lambda x: x**2 # Definerer en anonym funksjon\n",
    "\n",
    "f(3)"
   ]
  },
  {
   "cell_type": "markdown",
   "metadata": {},
   "source": [
    "### Plotting"
   ]
  },
  {
   "cell_type": "markdown",
   "metadata": {},
   "source": [
    "Vi skal nå lære hvordan vi kan plotte funksjoner i Python. Kode for å plotte funksjoner blir fort litt stygg, og du trenger ikke å pugge noe av koden for å plotte funksjoner. Det holder om du klarer å klippe og lime fra koden i eksemplene nedenfor og justere koden for å plotte andre funksjoner.\n"
   ]
  },
  {
   "cell_type": "markdown",
   "metadata": {},
   "source": [
    "For å plotte funksjoner trenger vi å importere *undermodulen (sub-module)*  ```pyplot``` fra modulen ```matplotlib``` . Vi importerer samtidig numpy siden vi skal se på hvordan vi kan plotte matematiske funksjoner.\n"
   ]
  },
  {
   "cell_type": "code",
   "execution_count": null,
   "metadata": {},
   "outputs": [],
   "source": [
    "import numpy as np # Gir oss en del matematiske funksjoner, konstanter, og mye mer\n",
    "import matplotlib.pyplot as plt # For plotting"
   ]
  },
  {
   "cell_type": "markdown",
   "metadata": {},
   "source": [
    "Når vi skal plotte en funksjon i Python må vi oppgi både $x$- og $y$-koordinatene til funksjonen vi skal plotte. For å gjøre dette oppretter vi en liste med $x$-verdier, og vi regner så ut de tilhørende $y$-verdiene. For å opprette en liste med $x$-verdier er det ofte praktisk å bruke funksjonen ```linspace``` fra Numpy. Hvis vi skriver ```np.linspace(1,3,10)``` får vi en liste som består av $10$ tall der det første tallet er $1$, det siste tallet er $3$, og resten av tallene er uniformt fordelt mellom $1$ og $3$. La oss se på et eksempel:\n"
   ]
  },
  {
   "cell_type": "code",
   "execution_count": null,
   "metadata": {},
   "outputs": [],
   "source": [
    "#Definere funksjon\n",
    "def f(x):\n",
    "    return x**3\n",
    "\n",
    "a = -2  # Venstre endepunkt til intervall\n",
    "b = 2  # Høyre endepunkt til intervall\n",
    "n = 1000 # Antall punkter ønsket i intervall\n",
    "\n",
    "x_verdier = np.linspace(a, b, n)\n",
    "y_verdier = f(x_verdier)\n",
    "\n",
    "plt.figure()\n",
    "plt.plot(x_verdier, y_verdier)\n",
    "plt.show()"
   ]
  },
  {
   "cell_type": "markdown",
   "metadata": {},
   "source": [
    "Plottet vi får fra koden ovenfor er vist i figur 9\n"
   ]
  },
  {
   "cell_type": "markdown",
   "metadata": {},
   "source": [
    "<img src=\"mf_dp_figure9.png\" width=\"500\" height=\"500\">\n",
    "Figur 9: funksjon plottet med Pyplot."
   ]
  },
  {
   "cell_type": "markdown",
   "metadata": {},
   "source": [
    "Det er ingen grunn til å pugge koden ovenfor, men det er lurt å forstå den. Hvis du skal plotte en funksjon kan det være like greit å kopiere koden ovenfor, og endre variabelverdiene slik at du får plottet funksjonen du vil plotte på intervallet du ønsker. Når Python plotter x- og y-verdiene ovenfor gir det oss egentlig bare en samling med punkter. For at plottet skal se ut som en funksjon tegner Python rette linjer mellom nabopunktene. Det betyr at hvis vi velger ut et lite antall punkter kan grafen vår se veldig hakkete ut. Det kan vi se hvis vi justerer antall punkter i koden vi så på ovenfor (se koden nedenfor og figur 10).\n"
   ]
  },
  {
   "cell_type": "code",
   "execution_count": null,
   "metadata": {},
   "outputs": [],
   "source": [
    "#Definere funksjon\n",
    "def f(x):\n",
    "    return x**3\n",
    "\n",
    "a = -2  \n",
    "b = 2  \n",
    "n = 6 \n",
    "\n",
    "x_verdier = np.linspace(a, b, n)\n",
    "y_verdier = f(x_verdier)\n",
    "\n",
    "plt.figure()\n",
    "plt.plot(x_verdier, y_verdier)\n",
    "plt.show()"
   ]
  },
  {
   "cell_type": "markdown",
   "metadata": {},
   "source": [
    "<img src=\"mf_dp_figure10.png\" width=\"500\" height=\"500\">\n",
    "Figur 10: Funksjonen plottet med Pyplot som i figur 9.  Her er det brukt litt for få punkter, og grafen ser derfor hakkete ut."
   ]
  },
  {
   "cell_type": "markdown",
   "metadata": {},
   "source": [
    "Det er ingen fasit på antall punkter man bør ha med siden dette vil være avhengig av funksjonen man ønsker å plotte, og i praksis er det bare å prøve seg frem til plottet ser fint ut. Pyplot er veldig fleksibelt, og det er mulig å gjøre mange justeringer i hvordan plottene ser ut. Vi har ikke mulighet til å gå gjennom alt her, og interesserte kan se på nettsidene til Matplotlib (se https://matplotlib.org/stable/tutorials/introductory/pyplot.html#sphx-glr-tutorials-introductory-pyplot-py  og https://matplotlib.org/stable/api/_as_gen/matplotlib.pyplot.html) for mer informasjon og mange eksempler. Eksempelet nedenfor viser noe av funksjonaliteten i Pyplot som er viktigst for oss. Dette inkluderer blant annet <li>rutenett</li> <li>$x$- og $y$-akser <li>minste/største $x$- og $y$-verdi som vises i koordinatsystemet<</li> <li>tittel på plottet</li> <li>\n",
    "tittel på aksene</li>. Det er ikke meningen at du skal pugge alle kommandoene nedenfor, men det er heller noe du kan tenke på som en referanse og slå opp i ved behov.\n"
   ]
  },
  {
   "cell_type": "code",
   "execution_count": null,
   "metadata": {},
   "outputs": [],
   "source": [
    "import numpy as np\n",
    "import matplotlib.pyplot as plt\n",
    "\n",
    "def f(x):\n",
    "    return x**2\n",
    "\n",
    "a    = 1   # Venstre endepunkt\n",
    "b    = 5   # Høyre endepunkt\n",
    "n    = 100 # Antall punkter\n",
    "xmin = -1  # Minste x-verdi i plottet\n",
    "xmax = 6   # Største x-verdi i plottet\n",
    "ymin = -3  # Minste y-verdi i plottet\n",
    "ymax = 30  # Største y-verdi i plottet\n",
    "xvals = np.linspace(a, b, n)\n",
    "yvals = f(xvals)\n",
    "\n",
    "# Plotte funksjoner:\n",
    "plt.plot(xvals, yvals, label='f')\n",
    "\n",
    "# Plotte et punkt:\n",
    "plt.plot(1,5, 'yp', label=\"Punkt\") # Tegner et punkt som y(ellow) 'o'\n",
    "# Noen fargelaternativer: y, g, r, k, b, c, m\n",
    "# Noen alternativer for punktformen: o, x, d, ., p\n",
    "\n",
    "# Legend:\n",
    "plt.legend(loc='upper right') # loc=location, plassering til legend\n",
    "# Akser og sånt (Kommenter ut det som ikke er interessant):\n",
    "plt.box(False) # Fjerner boksen rundt plottet\n",
    "plt.grid() # Kommenter ut hvis du ikke vil ha en rutenett\n",
    "plt.title('Tittel')\n",
    "plt.xlabel(\"x-akse navn\")\n",
    "plt.ylabel(\"y-akse navn\")\n",
    "plt.gca().set_xlim([xmin, xmax]) # Minste og største x-verdi\n",
    "plt.gca().set_ylim([ymin, ymax]) # Minste og største y-verdi\n",
    "#plt.gca().axis('off') # Fjerner aksene\n",
    "plt.gca().axhline(y=0, color='k') # x-akse\n",
    "plt.gca().axvline(x=0, color='k') # y-akse\n",
    "# plt.savefig(\"MittPlott.png\", dpi=200) # Lagrer plottet i mappen du jobber i\n",
    "plt.show()"
   ]
  },
  {
   "cell_type": "markdown",
   "metadata": {},
   "source": [
    "<img src=\"mf_dp_figure11.png\" width=\"500\" height=\"500\">\n",
    "Figur 11: Et eksempel som viser hvordan diverse ting kan plottes med Pyplot."
   ]
  },
  {
   "cell_type": "markdown",
   "metadata": {},
   "source": [
    "Som regel skal vi kanskje plotte en eller to funksjoner. Det blir ofte mye å skrive når man bruker Pyplot og det er ikke noe vits i å huske alt. Det enkleste er å ha en eller flere maler man tar utgangspunkt i. Hvis du skal lage et helt enkelt plott uten tittel og navn på akser kan du bruke koden fra det første eksempelet (vist i figur 9) som mal, og hvis du vil ha tittel på plottet og noe mer kan du bruke koden nedenfor som mal. Denne koden gir plottet vist i figur 11. \n"
   ]
  },
  {
   "cell_type": "markdown",
   "metadata": {},
   "source": [
    "### 4.4.1 - Oppgaver om plotting"
   ]
  },
  {
   "cell_type": "markdown",
   "metadata": {},
   "source": [
    "### Oppgave 1"
   ]
  },
  {
   "cell_type": "markdown",
   "metadata": {},
   "source": [
    "Plott funksjonene $f(x)=\\cos(2x)$ og $g(x)=\\ln(3x-2)$ på intervallet $[2, 7]$ i samme plott.\n"
   ]
  },
  {
   "cell_type": "code",
   "execution_count": null,
   "metadata": {},
   "outputs": [],
   "source": [
    "# Skriv løsningen din her:\n"
   ]
  },
  {
   "cell_type": "markdown",
   "metadata": {},
   "source": [
    "### Oppgave 2"
   ]
  },
  {
   "cell_type": "markdown",
   "metadata": {},
   "source": [
    "Avstanden en bil har kjørt etter $t$ timer er gitt ved $f(t)=60t$. Plott avstanden til bilen som en funksjon av tid for de første $3$ timene av bilturen. Ta med passende navn på aksene og tittel.\n"
   ]
  },
  {
   "cell_type": "code",
   "execution_count": null,
   "metadata": {},
   "outputs": [],
   "source": [
    "# Skriv løsningen din her:\n"
   ]
  },
  {
   "cell_type": "markdown",
   "metadata": {},
   "source": [
    "### Løsningsforslag:"
   ]
  },
  {
   "cell_type": "markdown",
   "metadata": {},
   "source": [
    "### Oppgave 1"
   ]
  },
  {
   "cell_type": "code",
   "execution_count": null,
   "metadata": {},
   "outputs": [],
   "source": [
    "def f(x):\n",
    "    return np.cos(2*x)\n",
    "def g(x):\n",
    "    return np.log(3*x-2)\n",
    "a    = 2   # Venstre endepunkt\n",
    "b    = 7   # Høyre endepunkt\n",
    "n    = 100 # Antall punkter\n",
    "xvals  = np.linspace(a, b, n)\n",
    "yvals  = f(xvals)\n",
    "yvals2 = g(xvals)\n",
    "plt.plot(xvals, yvals, label='f')\n",
    "plt.plot(xvals, yvals2, label='g')\n",
    "plt.legend(loc='lower right') # loc=location, plassering til legend\n",
    "plt.box(False) # Fjerner boksen rundt plottet\n",
    "plt.grid()\n",
    "plt.gca().axhline(y=0, color='k') # x-akse\n",
    "plt.gca().axvline(x=0, color='k') # y-akse\n",
    "plt.show()"
   ]
  },
  {
   "cell_type": "markdown",
   "metadata": {},
   "source": [
    "### Oppgave 2"
   ]
  },
  {
   "cell_type": "markdown",
   "metadata": {},
   "source": [
    "Dette kan gjøres på flere måter, og koden nedenfor kan ses på som et eksempel.\n"
   ]
  },
  {
   "cell_type": "code",
   "execution_count": null,
   "metadata": {},
   "outputs": [],
   "source": [
    "def f(x):\n",
    "    return 60*x\n",
    "a    = 0   # Venstre endepunkt\n",
    "b    = 3   # Høyre endepunkt\n",
    "n    = 100 # Antall punkter\n",
    "xmin = -0.1  # Minste x-verdi i plottet\n",
    "xmax = 4   # Største x-verdi i plottet\n",
    "ymin = -1  # Minste y-verdi i plottet\n",
    "ymax = 200  # Største y-verdi i plottet\n",
    "xvals = np.linspace(a, b, n)\n",
    "yvals = f(xvals)\n",
    "plt.plot(xvals, yvals)\n",
    "plt.box(False) # Fjerner boksen rundt plottet\n",
    "plt.grid() # Kommenter ut hvis du ikke vil ha en rutenett\n",
    "plt.title('Avstanden bilen har kjørt')\n",
    "plt.xlabel(\"Tid (timer)\")\n",
    "plt.ylabel(\"Avstand (kilometer)\")\n",
    "plt.gca().set_xlim([xmin, xmax]) # Minste og største x-verdi\n",
    "plt.gca().set_ylim([ymin, ymax]) # Minste og største y-verdi\n",
    "plt.gca().axhline(y=0, color='k') # x-akse\n",
    "plt.gca().axvline(x=0, color='k') # y-akse\n",
    "plt.show()"
   ]
  }
 ],
 "metadata": {
  "kernelspec": {
   "display_name": "Python 3 (ipykernel)",
   "language": "python",
   "name": "python3"
  },
  "language_info": {
   "codemirror_mode": {
    "name": "ipython",
    "version": 3
   },
   "file_extension": ".py",
   "mimetype": "text/x-python",
   "name": "python",
   "nbconvert_exporter": "python",
   "pygments_lexer": "ipython3",
   "version": "3.10.6"
  }
 },
 "nbformat": 4,
 "nbformat_minor": 4
}
