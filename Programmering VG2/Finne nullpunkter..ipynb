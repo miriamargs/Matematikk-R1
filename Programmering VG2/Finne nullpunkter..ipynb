{
 "cells": [
  {
   "cell_type": "markdown",
   "metadata": {},
   "source": [
    "## løse eksponentiell og logaritme likninger \n",
    "Oppgavene under viser to tilnærmninger for å løse likninger med programmering"
   ]
  },
  {
   "cell_type": "markdown",
   "metadata": {},
   "source": [
    "#### Oppgave 8.14  \n",
    "Skriv et program som bestemmer en heltallig (tilnærmet) løsning\n",
    "av likningen <br>\n",
    "x·lg(x) = 150 <br>\n",
    "når du får vite at løsningen ligger mellom 10 og 100. "
   ]
  },
  {
   "cell_type": "markdown",
   "metadata": {},
   "source": [
    "Vi skal lage først en enkel algortime for å finne en tilnærmet heltall som løsning for likning ved hjelp av en while-løkke:\n"
   ]
  },
  {
   "cell_type": "code",
   "execution_count": 13,
   "metadata": {},
   "outputs": [
    {
     "name": "stdout",
     "output_type": "stream",
     "text": [
      "x = 80 er en tilnærmet løsning til x·lg(x) = 150 \n",
      "f(80)= 152.24719895935547\n"
     ]
    }
   ],
   "source": [
    "import numpy as np\n",
    "\n",
    "def f(x):\n",
    "    return x*np.log10(x)\n",
    "\n",
    "x = 10\n",
    "while f(x) <= 150:     \n",
    "    x += 1\n",
    "\n",
    "print(f\"x = {x} er en tilnærmet løsning til x·lg(x) = 150 \")\n",
    "\n"
   ]
  },
  {
   "cell_type": "markdown",
   "metadata": {},
   "source": [
    "Dette er tilnærming vi har tatt: \n",
    "\n",
    "1. Vi starte med x = 10, siden løsning er mellom 10 og 100 \n",
    "2. Vi øker x med 1 så lenge f(x) < 150 og x <100 100\n",
    "3. Vi stopper når f(x) er større en 150\n",
    "4. Vi velger x-1 som en tilnærmet løsning til likning "
   ]
  },
  {
   "cell_type": "markdown",
   "metadata": {},
   "source": [
    "Vi kunne ha skrevet samme funksjonalitet med en for-løkke"
   ]
  },
  {
   "cell_type": "code",
   "execution_count": 22,
   "metadata": {},
   "outputs": [
    {
     "name": "stdout",
     "output_type": "stream",
     "text": [
      "x = 100 er en tilnærmet løsning til x·lg(x) = 150 \n"
     ]
    }
   ],
   "source": [
    "#skriv din kode her\n",
    "import numpy as np\n",
    "\n",
    "def f(x):\n",
    "    return x*np.log10(x)\n",
    "\n",
    "for x in range(10, 101):\n",
    "    if x > 150:\n",
    "        break\n",
    "    \n",
    "print(f\"x = {x} er en tilnærmet løsning til x·lg(x) = 150 \")"
   ]
  },
  {
   "cell_type": "markdown",
   "metadata": {},
   "source": [
    "Vi får x= 80 og vi ser at f(80)= 152.25, dvs. den har vippet over 150. Dette er fordi løsning ikke vær en heltall. Kjør kode under og forklar at løsning finnes mellom 79 og 80."
   ]
  },
  {
   "cell_type": "code",
   "execution_count": 18,
   "metadata": {},
   "outputs": [
    {
     "name": "stdout",
     "output_type": "stream",
     "text": [
      "f(79))= 149.91254021194487\n",
      "f(80)= 152.24719895935547\n"
     ]
    }
   ],
   "source": [
    "print(f\"f(79))= {79*np.log10(79)}\")\n",
    "print(f\"f(80)= {80*np.log10(80)}\")"
   ]
  },
  {
   "cell_type": "markdown",
   "metadata": {},
   "source": [
    "En andre alternativ som gir oss en bedre tilnærming til løsning er å enten øke med mindre enn 1 (f.eks. x = x + 0.001) eller bruke linspace for å lage verdier til x med desimaler. Når det blir større en  150 stopper vi opp, og runde opp når vi finne en tilnærmet verdi av nullpunkt."
   ]
  },
  {
   "cell_type": "code",
   "execution_count": 21,
   "metadata": {},
   "outputs": [
    {
     "name": "stdout",
     "output_type": "stream",
     "text": [
      "x = 79 er en tilnærmet løsning til x·lg(x) = 150 \n"
     ]
    }
   ],
   "source": [
    "#skriv din kode her\n",
    "import numpy as np\n",
    "\n",
    "def f(x):\n",
    "    return x*np.log10(x)\n",
    "\n",
    "for x in np.linspace(10, 100, 1000):\n",
    "    if f(x) > 150:\n",
    "        break\n",
    "print(f\"x = {int(x)} er en tilnærmet løsning til x·lg(x) = 150 \")"
   ]
  },
  {
   "cell_type": "markdown",
   "metadata": {},
   "source": []
  },
  {
   "cell_type": "markdown",
   "metadata": {},
   "source": [
    "### Oppgave 8.18\n",
    "Algoritme:\n",
    "1. Sett x1 = 2 \n",
    "2. Sett x2 = 5 \n",
    "3. Regn m = (x1+x2)/2 \n",
    "4. Så lenge abs(f(m)) >= 0.01: \n",
    "\n",
    "Funksjonen f er gitt ved $f (x) = x^3 − 4x^2 + x $,  der f(2) < 0 og f (5) > 0. \n",
    "\n",
    "Ta utgangspunkt i algoritmen ovenfor, og skriv kode der du bruker halveringsalgoritmen for å bestemme nullpunktet til f (x). "
   ]
  },
  {
   "cell_type": "markdown",
   "metadata": {},
   "source": [
    "Siden f(2) < 0 og f (5) > 0 (skifte fortegn), vet vi at nullpunktet ligger i intervall [2,5]."
   ]
  },
  {
   "cell_type": "code",
   "execution_count": 30,
   "metadata": {},
   "outputs": [
    {
     "name": "stdout",
     "output_type": "stream",
     "text": [
      "x=3.731 er en tilnærmet verdi av en av nullpunkter til f (x) = x^3 − 4x^2 + x  \n"
     ]
    }
   ],
   "source": [
    "def f(x):\n",
    "    return x**3 -4*x**2 + x\n",
    "\n",
    "x1 = 2\n",
    "x2 = 5\n",
    "m = (x1 + x2)/2\n",
    "\n",
    "while abs(f(m)) >= 0.01:\n",
    "    if f(x2)*f(m) < 0:\n",
    "        x1 = m\n",
    "    else:\n",
    "        x2 = m\n",
    "    m = (x1 + x2)/2\n",
    "\n",
    "\n",
    "print(f\"x={round(m,3)} er en tilnærmet verdi av en av nullpunkter til f (x) = x^3 − 4x^2 + x  \")"
   ]
  },
  {
   "cell_type": "markdown",
   "metadata": {},
   "source": [
    "Hvis du har halveringsmetode ferdig skrevet som en funksjon, du kan skrive kode som følge:"
   ]
  },
  {
   "cell_type": "code",
   "execution_count": 28,
   "metadata": {},
   "outputs": [
    {
     "name": "stdout",
     "output_type": "stream",
     "text": [
      "x=3.732 er en tilnærmet verdi av en av nullpunkter til f (x) = x^3 − 4x^2 + x  \n"
     ]
    }
   ],
   "source": [
    "from Standard_algoritmer import *\n",
    "\n",
    "nullpunkt = halveringsmetode(f, 2,5)\n",
    "\n",
    "print(f\"x={round(nullpunkt,3)} er en tilnærmet verdi av en av nullpunkter til f (x) = x^3 − 4x^2 + x  \")\n"
   ]
  },
  {
   "cell_type": "markdown",
   "metadata": {},
   "source": [
    "### Oppgave 8.19\n",
    "Gitt likningen $lg(x + 3) = x − 3$.\n",
    "Du skal løse likningen ved hjelp av halveringsmetoden. \n",
    "Du får vite at f (1) er positiv, og f (6.5) er negativ. \n",
    "Bruk dette til å skrive et program som løser likningen ved hjelp av halveringsmetoden. (Løsningen med to desimalers nøyaktighet skal være x = 3,83)."
   ]
  },
  {
   "cell_type": "code",
   "execution_count": 33,
   "metadata": {},
   "outputs": [
    {
     "name": "stdout",
     "output_type": "stream",
     "text": [
      "x = 3.83 er en tilnærmet verdi av nullpunkt\n"
     ]
    }
   ],
   "source": [
    "import numpy as np\n",
    "def f(x):\n",
    "    return np.log10(x + 3) - x + 3\n",
    "\n",
    "a = 1\n",
    "b = 6.5\n",
    "nullpunkt = halveringsmetode(f, a, b, 1E-8)\n",
    "print(f\"x = {round(nullpunkt, 2)} er en tilnærmet verdi av nullpunkt\")\n",
    "\n"
   ]
  },
  {
   "cell_type": "markdown",
   "metadata": {},
   "source": [
    "Du kunne også ha bruk Newtonsmetode, som finne nullpunker til en funksjon. "
   ]
  }
 ],
 "metadata": {
  "kernelspec": {
   "display_name": "Python 3",
   "language": "python",
   "name": "python3"
  },
  "language_info": {
   "codemirror_mode": {
    "name": "ipython",
    "version": 3
   },
   "file_extension": ".py",
   "mimetype": "text/x-python",
   "name": "python",
   "nbconvert_exporter": "python",
   "pygments_lexer": "ipython3",
   "version": "3.10.7"
  }
 },
 "nbformat": 4,
 "nbformat_minor": 2
}
